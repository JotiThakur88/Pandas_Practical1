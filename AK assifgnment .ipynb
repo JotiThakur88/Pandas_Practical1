{
 "cells": [
  {
   "cell_type": "code",
   "execution_count": 8,
   "id": "08139cd7",
   "metadata": {},
   "outputs": [],
   "source": [
    "import numpy as np\n",
    "import pandas as pd\n",
    "np.random.seed(42)\n",
    "n = 150"
   ]
  },
  {
   "cell_type": "code",
   "execution_count": 10,
   "id": "6dec5bdb",
   "metadata": {},
   "outputs": [
    {
     "name": "stdout",
     "output_type": "stream",
     "text": [
      "Synthetic Dataset (first 10 rows):\n",
      "   id  age        income      score\n",
      "0   1   56  16028.823956  71.035681\n",
      "1   2   46  29970.248739  72.676360\n",
      "2   3   32  23347.531254  56.576872\n",
      "3   4   25  39386.838621  36.359045\n",
      "4   5   38  14454.602337  81.235418\n",
      "5   6   56           NaN  91.432052\n",
      "6   7   36  17408.869699  66.574111\n",
      "7   8   40   9153.494804  72.493145\n",
      "8   9   28  26309.152627  73.245183\n",
      "9  10   28  25761.416403  86.752932\n"
     ]
    }
   ],
   "source": [
    "ids = np.arange(1, n+1)\n",
    "ages = np.random.randint(18, 60, size=n) \n",
    "incomes = np.random.lognormal(mean=10, sigma=0.6, size=n)\n",
    "nan_idx = np.random.choice(n, size=12, replace=False)\n",
    "incomes[nan_idx] = np.nan\n",
    "scores = np.clip(np.random.normal(loc=70, scale=10, size=n), 0, 100)\n",
    "score_nan_idx = np.random.choice(n, size=8, replace=False)\n",
    "scores[score_nan_idx] = np.nan\n",
    "df = pd.DataFrame({\n",
    "    \"id\": ids,\n",
    "    \"age\": ages,\n",
    "    \"income\": incomes,\n",
    "    \"score\": scores\n",
    "})\n",
    "\n",
    "print(\"Synthetic Dataset (first 10 rows):\")\n",
    "print(df.head(10)"
   ]
  },
  {
   "cell_type": "code",
   "execution_count": 14,
   "id": "3be81738",
   "metadata": {},
   "outputs": [
    {
     "name": "stdout",
     "output_type": "stream",
     "text": [
      "Income values with corresponding z-scores:\n",
      "            income  income_zscore\n",
      "0    16028.823956      -0.505136\n",
      "1    29970.248739       0.082064\n",
      "2    23347.531254      -0.196879\n",
      "3    39386.838621       0.478682\n",
      "4    14454.602337      -0.571440\n",
      "..            ...            ...\n",
      "145  14898.857206      -0.552729\n",
      "146  79727.229279       2.177780\n",
      "147  32220.282141       0.176833\n",
      "148   6534.913882      -0.905010\n",
      "149  24633.746452      -0.142705\n",
      "\n",
      "[150 rows x 2 columns]\n",
      "\n",
      "Total Outliers Found: 2\n",
      "Details of Outlier Records:\n",
      "       id  age         income      score  income_zscore\n",
      "91    92   52  112656.821625  78.075556       3.564743\n",
      "121  122   31  222267.945415  87.185994       8.181459\n"
     ]
    }
   ],
   "source": [
    "\n",
    "avg_income = df[\"income\"].mean(skipna=True)\n",
    "std_income = df[\"income\"].std(skipna=True)\n",
    "\n",
    "df[\"income_zscore\"] = (df[\"income\"] - avg_income) / std_income\n",
    "\n",
    "outlier_rows = df[df[\"income_zscore\"].abs() > 3]\n",
    "\n",
    "print(\"Income values with corresponding z-scores:\\n\", df[[\"income\", \"income_zscore\"]])\n",
    "print(\"\\nTotal Outliers Found:\", outlier_rows.shape[0])\n",
    "print(\"Details of Outlier Records:\\n\", outlier_rows)"
   ]
  },
  {
   "cell_type": "raw",
   "id": "c90cc5b5",
   "metadata": {},
   "source": [
    "A weighted mean is preferable when different observations \"\n",
    "      \"should contribute unequally to the average. For example, if older participants \"\n",
    "      \"represent larger households, or if subgroup estimates with different sample sizes \"\n",
    "      \"need to be combined, weights ensure fair representation."
   ]
  },
  {
   "cell_type": "code",
   "execution_count": 17,
   "id": "49f30b40",
   "metadata": {},
   "outputs": [
    {
     "name": "stdout",
     "output_type": "stream",
     "text": [
      "Income values with corresponding z-scores:\n",
      "            income  income_zscore\n",
      "0    16028.823956      -0.505136\n",
      "1    29970.248739       0.082064\n",
      "2    23347.531254      -0.196879\n",
      "3    39386.838621       0.478682\n",
      "4    14454.602337      -0.571440\n",
      "..            ...            ...\n",
      "145  14898.857206      -0.552729\n",
      "146  79727.229279       2.177780\n",
      "147  32220.282141       0.176833\n",
      "148   6534.913882      -0.905010\n",
      "149  24633.746452      -0.142705\n",
      "\n",
      "[150 rows x 2 columns]\n",
      "\n",
      "Total Outliers Found: 2\n",
      "Details of Outlier Records:\n",
      "       id  age         income      score  income_zscore\n",
      "91    92   52  112656.821625  78.075556       3.564743\n",
      "121  122   31  222267.945415  87.185994       8.181459\n"
     ]
    }
   ],
   "source": [
    "avg_income = df[\"income\"].mean(skipna=True)\n",
    "std_income = df[\"income\"].std(skipna=True)\n",
    "df[\"income_zscore\"] = (df[\"income\"] - avg_income) / std_income\n",
    "outlier_rows = df[df[\"income_zscore\"].abs() > 3]\n",
    "print(\"Income values with corresponding z-scores:\\n\", df[[\"income\", \"income_zscore\"]])\n",
    "print(\"\\nTotal Outliers Found:\", outlier_rows.shape[0])\n",
    "print(\"Details of Outlier Records:\\n\", outlier_rows)"
   ]
  },
  {
   "cell_type": "code",
   "execution_count": 5,
   "id": "f6568193",
   "metadata": {},
   "outputs": [
    {
     "name": "stdout",
     "output_type": "stream",
     "text": [
      "\n",
      "Problem 3 Results (by Age Bin):\n",
      "   age_bin  count_obs   mean_income  median_score\n",
      "0  [18-25)         25  24182.233725     67.349189\n",
      "1  [25-35)         36  32561.317191     69.271574\n",
      "2  [35-45)         36  26829.279945     69.024289\n",
      "3  [45-60)         53  27440.062782     71.655773\n"
     ]
    }
   ],
   "source": [
    "bins = [18, 25, 35, 45, 60]\n",
    "labels = [\"[18-25)\", \"[25-35)\", \"[35-45)\", \"[45-60)\"]\n",
    "df[\"age_bin\"] = pd.cut(df[\"age\"], bins=bins, labels=labels, right=False)\n",
    "\n",
    "group = df.groupby(\"age_bin\").agg(\n",
    "    count_obs=(\"id\", \"count\"),\n",
    "    mean_income=(\"income\", \"mean\"),\n",
    "    median_score=(\"score\", \"median\")\n",
    ").reset_index().sort_values(\"age_bin\")\n",
    "\n",
    "print(\"\\nProblem 3 Results (by Age Bin):\")\n",
    "print(group)\n"
   ]
  },
  {
   "cell_type": "code",
   "execution_count": 36,
   "id": "f53dc2f7",
   "metadata": {},
   "outputs": [
    {
     "name": "stdout",
     "output_type": "stream",
     "text": [
      "\n",
      "Problem 4 Results:\n",
      "Array A:\n",
      " [[1 2 3]\n",
      " [4 5 6]]\n",
      "Shape: (2, 3)\n",
      "Size: 6\n"
     ]
    }
   ],
   "source": [
    "\n",
    "A = np.array([[1, 2, 3],\n",
    "              [4, 5, 6]])   \n",
    "print(\"\\nProblem 4 Results:\")\n",
    "print(\"Array A:\\n\", A)\n",
    "print(\"Shape:\", A.shape)\n",
    "print(\"Size:\", A.size)\n"
   ]
  },
  {
   "cell_type": "code",
   "execution_count": 38,
   "id": "7c3989c4",
   "metadata": {},
   "outputs": [
    {
     "name": "stdout",
     "output_type": "stream",
     "text": [
      "Transpose:\n",
      " [[1 4]\n",
      " [2 5]\n",
      " [3 6]]\n",
      "Flatten: [1 2 3 4 5 6]\n",
      "Last row (A[-1]): [4 5 6]\n",
      "Last element (A[-1,-1]): 6\n",
      "Error while slicing with invalid index: index -10 is out of bounds for axis 1 with size 3\n"
     ]
    }
   ],
   "source": [
    "print(\"Transpose:\\n\", A.T)\n",
    "print(\"Flatten:\", A.flatten())\n",
    "\n",
    "print(\"Last row (A[-1]):\", A[-1])\n",
    "print(\"Last element (A[-1,-1]):\", A[-1, -1])\n",
    "try:\n",
    "    _ = A[:, -10]\n",
    "except Exception as e:\n",
    "    print(\"Error while slicing with invalid index:\", e)\n"
   ]
  },
  {
   "cell_type": "code",
   "execution_count": 40,
   "id": "7f11bda2",
   "metadata": {},
   "outputs": [
    {
     "name": "stdout",
     "output_type": "stream",
     "text": [
      "\n",
      "Broadcasting (A + [10,20,30]):\n",
      " [[11 22 33]\n",
      " [14 25 36]]\n"
     ]
    }
   ],
   "source": [
    "row_vec = np.array([10, 20, 30])\n",
    "print(\"\\nBroadcasting (A + [10,20,30]):\\n\", A + row_vec)\n"
   ]
  },
  {
   "cell_type": "code",
   "execution_count": 42,
   "id": "ba0f5ec4",
   "metadata": {},
   "outputs": [
    {
     "name": "stdout",
     "output_type": "stream",
     "text": [
      "\n",
      "Dot Product (A.dot(B)):\n",
      " [[ 4  5]\n",
      " [10 11]]\n"
     ]
    }
   ],
   "source": [
    "B = np.array([[1, 0],\n",
    "              [0, 1],\n",
    "              [1, 1]])\n",
    "print(\"\\nDot Product (A.dot(B)):\\n\", A.dot(B))"
   ]
  },
  {
   "cell_type": "code",
   "execution_count": 44,
   "id": "21e67e87",
   "metadata": {},
   "outputs": [
    {
     "name": "stdout",
     "output_type": "stream",
     "text": [
      "\n",
      "Matrix M:\n",
      " [[1.68111785 0.18143835 0.52516338]\n",
      " [0.70904626 1.10687692 0.56731222]\n",
      " [0.25656278 0.96292688 1.48354565]]\n",
      "\n",
      "Determinant of M: 1.8871821801079591\n",
      "\n",
      "Inverse of M:\n",
      " [[ 0.58066586  0.1253307  -0.25347793]\n",
      " [-0.48026698  1.25015895 -0.30805376]\n",
      " [ 0.21130778 -0.83311683  0.91784587]]\n"
     ]
    }
   ],
   "source": [
    "M = np.random.rand(3,3) + np.eye(3)  \n",
    "detM = np.linalg.det(M)\n",
    "invM = np.linalg.inv(M)\n",
    "\n",
    "print(\"\\nMatrix M:\\n\", M)\n",
    "print(\"\\nDeterminant of M:\", detM)\n",
    "print(\"\\nInverse of M:\\n\", invM)"
   ]
  },
  {
   "cell_type": "code",
   "execution_count": null,
   "id": "beb611ee",
   "metadata": {},
   "outputs": [],
   "source": []
  }
 ],
 "metadata": {
  "kernelspec": {
   "display_name": "Python 3 (ipykernel)",
   "language": "python",
   "name": "python3"
  },
  "language_info": {
   "codemirror_mode": {
    "name": "ipython",
    "version": 3
   },
   "file_extension": ".py",
   "mimetype": "text/x-python",
   "name": "python",
   "nbconvert_exporter": "python",
   "pygments_lexer": "ipython3",
   "version": "3.11.4"
  }
 },
 "nbformat": 4,
 "nbformat_minor": 5
}
